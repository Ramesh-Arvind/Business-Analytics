{
  "metadata": {
    "language_info": {
      "codemirror_mode": {
        "name": "python",
        "version": 3
      },
      "file_extension": ".py",
      "mimetype": "text/x-python",
      "name": "python",
      "nbconvert_exporter": "python",
      "pygments_lexer": "ipython3",
      "version": "3.8"
    },
    "kernelspec": {
      "name": "python",
      "display_name": "Python (Pyodide)",
      "language": "python"
    }
  },
  "nbformat_minor": 4,
  "nbformat": 4,
  "cells": [
    {
      "cell_type": "code",
      "source": "import pandas as pd\nimport numpy as np\nfrom sklearn.preprocessing import MinMaxScaler, StandardScaler\n\nhousing_df= pd.read_csv('WestRoxbury.csv')",
      "metadata": {
        "trusted": true
      },
      "execution_count": 1,
      "outputs": []
    },
    {
      "cell_type": "code",
      "source": "housing_df.shape\nhousing_df.head()\nprint(housing_df)",
      "metadata": {
        "trusted": true
      },
      "execution_count": 2,
      "outputs": [
        {
          "name": "stdout",
          "text": "      TOTAL VALUE    TAX  LOT SQFT   YR BUILT  GROSS AREA   LIVING AREA  \\\n0            344.2  4330       9965      1880         2436         1352   \n1            412.6  5190       6590      1945         3108         1976   \n2            330.1  4152       7500      1890         2294         1371   \n3            498.6  6272      13773      1957         5032         2608   \n4            331.5  4170       5000      1910         2370         1438   \n...            ...   ...        ...       ...          ...          ...   \n5797         404.8  5092       6762      1938         2594         1714   \n5798         407.9  5131       9408      1950         2414         1333   \n5799         406.5  5113       7198      1987         2480         1674   \n5800         308.7  3883       6890      1946         2000         1000   \n5801         447.6  5630       7406      1950         2510         1600   \n\n      FLOORS   ROOMS  BEDROOMS   FULL BATH  HALF BATH  KITCHEN  FIREPLACE  \\\n0         2.0      6          3          1          1        1          0   \n1         2.0     10          4          2          1        1          0   \n2         2.0      8          4          1          1        1          0   \n3         1.0      9          5          1          1        1          1   \n4         2.0      7          3          2          0        1          0   \n...       ...    ...        ...        ...        ...      ...        ...   \n5797      2.0      9          3          2          1        1          1   \n5798      2.0      6          3          1          1        1          1   \n5799      2.0      7          3          1          1        1          1   \n5800      1.0      5          2          1          0        1          0   \n5801      2.0      7          3          1          1        1          1   \n\n     REMODEL  \n0       None  \n1     Recent  \n2       None  \n3       None  \n4       None  \n...      ...  \n5797  Recent  \n5798    None  \n5799    None  \n5800    None  \n5801    None  \n\n[5802 rows x 14 columns]\n",
          "output_type": "stream"
        }
      ]
    },
    {
      "cell_type": "code",
      "source": "housing_df.columns = [s.strip().replace(' ','_') for s in housing_df.columns]\n\n#Descriptive Stats\nprint('Number of rows', len(housing_df['TOTAL_VALUE']))\nprint('Mean of Total_Value', housing_df['TOTAL_VALUE'].mean())\nhousing_df.describe()\n\nhousing_df.columns\nhousing_df.REMODEL = housing_df.REMODEL.astype('category')\nhousing_df.REMODEL.cat.categories\nhousing_df.REMODEL.dtype",
      "metadata": {
        "trusted": true
      },
      "execution_count": 3,
      "outputs": [
        {
          "name": "stdout",
          "text": "Number of rows 5802\nMean of Total_Value 392.6857149258877\n",
          "output_type": "stream"
        },
        {
          "execution_count": 3,
          "output_type": "execute_result",
          "data": {
            "text/plain": "CategoricalDtype(categories=['None', 'Old', 'Recent'], ordered=False)"
          },
          "metadata": {}
        }
      ]
    },
    {
      "cell_type": "code",
      "source": "missingRows = housing_df.sample(10).index\nhousing_df.loc[missingRows,'BEDROOMS']= np.nan\nprint('no of rows with vallid bedroom after setting to nan',housing_df['BEDROOMS'].count())\n\nreduced_df = housing_df.dropna()\nprint('no of rows after removing the missing values: ',len(reduced_df))\n\nmedianBedroom = housing_df['BEDROOMS'].median()\nhousing_df.BEDROOMS = housing_df.BEDROOMS.fillna(value=medianBedroom)\nprint('no of rows with vallid bedroom after filling na values',housing_df['BEDROOMS'].count())\n",
      "metadata": {
        "trusted": true
      },
      "execution_count": 4,
      "outputs": [
        {
          "name": "stdout",
          "text": "no of rows with vallid bedroom after setting to nan 5792\nno of rows after removing the missing values:  5792\nno of rows with vallid bedroom after filling na values 5802\n",
          "output_type": "stream"
        }
      ]
    },
    {
      "cell_type": "code",
      "source": "from sklearn import preprocessing\ndf = housing_df.copy()\ndf.head()\n\nexclude = df.loc[:, df.columns != 'REMODEL']\nexclude.head()\n\nnorm_data = preprocessing.normalize(exclude, axis=0)\nnorm_df = pd.DataFrame(norm_data,columns=[exclude.columns])\n\nprint('Original Data \\n',exclude.head(10))\nprint('Normalized Data \\n',norm_df.head(10))",
      "metadata": {
        "trusted": true
      },
      "execution_count": 11,
      "outputs": [
        {
          "name": "stdout",
          "text": "Original Data \n    TOTAL_VALUE   TAX  LOT_SQFT  YR_BUILT  GROSS_AREA  LIVING_AREA  FLOORS  \\\n0        344.2  4330      9965      1880        2436         1352     2.0   \n1        412.6  5190      6590      1945        3108         1976     2.0   \n2        330.1  4152      7500      1890        2294         1371     2.0   \n3        498.6  6272     13773      1957        5032         2608     1.0   \n4        331.5  4170      5000      1910        2370         1438     2.0   \n5        337.4  4244      5142      1950        2124         1060     1.0   \n6        359.4  4521      5000      1954        3220         1916     2.0   \n7        320.4  4030     10000      1950        2208         1200     1.0   \n8        333.5  4195      6835      1958        2582         1092     1.0   \n9        409.4  5150      5093      1900        4818         2992     2.0   \n\n   ROOMS  BEDROOMS  FULL_BATH  HALF_BATH  KITCHEN  FIREPLACE  \n0      6       3.0          1          1        1          0  \n1     10       4.0          2          1        1          0  \n2      8       4.0          1          1        1          0  \n3      9       5.0          1          1        1          1  \n4      7       3.0          2          0        1          0  \n5      6       3.0          1          0        1          1  \n6      7       3.0          1          1        1          0  \n7      6       3.0          1          0        1          0  \n8      5       3.0          1          0        1          1  \n9      8       4.0          2          0        1          0  \nNormalized Data \n   TOTAL_VALUE       TAX  LOT_SQFT  YR_BUILT GROSS_AREA LIVING_AREA    FLOORS  \\\n0    0.011157  0.011158  0.019177  0.012742   0.010467    0.010184  0.015077   \n1    0.013374  0.013374  0.012682  0.013182   0.013354    0.014884  0.015077   \n2    0.010700  0.010699  0.014433  0.012809   0.009857    0.010327  0.015077   \n3    0.016162  0.016162  0.026505  0.013263   0.021621    0.019644  0.007539   \n4    0.010745  0.010746  0.009622  0.012945   0.010183    0.010831  0.015077   \n5    0.010937  0.010936  0.009895  0.013216   0.009126    0.007984  0.007539   \n6    0.011650  0.011650  0.009622  0.013243   0.013835    0.014432  0.015077   \n7    0.010386  0.010385  0.019244  0.013216   0.009487    0.009039  0.007539   \n8    0.010810  0.010810  0.013153  0.013270   0.011094    0.008225  0.007539   \n9    0.013271  0.013271  0.009801  0.012877   0.020701    0.022536  0.015077   \n\n      ROOMS  BEDROOMS FULL_BATH HALF_BATH   KITCHEN FIREPLACE  \n0  0.011031  0.011793  0.009391  0.016137  0.012836  0.000000  \n1  0.018384  0.015725  0.018783  0.016137  0.012836  0.000000  \n2  0.014708  0.015725  0.009391  0.016137  0.012836  0.000000  \n3  0.016546  0.019656  0.009391  0.016137  0.012836  0.014101  \n4  0.012869  0.011793  0.018783  0.000000  0.012836  0.000000  \n5  0.011031  0.011793  0.009391  0.000000  0.012836  0.014101  \n6  0.012869  0.011793  0.009391  0.016137  0.012836  0.000000  \n7  0.011031  0.011793  0.009391  0.000000  0.012836  0.000000  \n8  0.009192  0.011793  0.009391  0.000000  0.012836  0.014101  \n9  0.014708  0.015725  0.018783  0.000000  0.012836  0.000000  \n",
          "output_type": "stream"
        }
      ]
    },
    {
      "cell_type": "code",
      "source": "\nrescale_df = (exclude-exclude.min())/(exclude.max()-exclude.min())\nscaler = MinMaxScaler()\nrescale = pd.DataFrame(scaler.fit_transform(exclude),index=exclude.index, columns=exclude.columns)\n\nprint('Original Data \\n',exclude.head(10))\nprint('Rescaled Data \\n',rescale.head(10))",
      "metadata": {
        "trusted": true
      },
      "execution_count": 14,
      "outputs": [
        {
          "name": "stdout",
          "text": "Original Data \n    TOTAL_VALUE   TAX  LOT_SQFT  YR_BUILT  GROSS_AREA  LIVING_AREA  FLOORS  \\\n0        344.2  4330      9965      1880        2436         1352     2.0   \n1        412.6  5190      6590      1945        3108         1976     2.0   \n2        330.1  4152      7500      1890        2294         1371     2.0   \n3        498.6  6272     13773      1957        5032         2608     1.0   \n4        331.5  4170      5000      1910        2370         1438     2.0   \n5        337.4  4244      5142      1950        2124         1060     1.0   \n6        359.4  4521      5000      1954        3220         1916     2.0   \n7        320.4  4030     10000      1950        2208         1200     1.0   \n8        333.5  4195      6835      1958        2582         1092     1.0   \n9        409.4  5150      5093      1900        4818         2992     2.0   \n\n   ROOMS  BEDROOMS  FULL_BATH  HALF_BATH  KITCHEN  FIREPLACE  \n0      6       3.0          1          1        1          0  \n1     10       4.0          2          1        1          0  \n2      8       4.0          1          1        1          0  \n3      9       5.0          1          1        1          1  \n4      7       3.0          2          0        1          0  \n5      6       3.0          1          0        1          1  \n6      7       3.0          1          1        1          0  \n7      6       3.0          1          0        1          0  \n8      5       3.0          1          0        1          1  \n9      8       4.0          2          0        1          0  \nRescaled Data \n    TOTAL_VALUE       TAX  LOT_SQFT  YR_BUILT  GROSS_AREA  LIVING_AREA  FLOORS  \\\n0     0.214953  0.215015  0.197472  0.934858    0.220237     0.177220     0.5   \n1     0.276420  0.276448  0.123156  0.967181    0.311878     0.307628     0.5   \n2     0.202283  0.202300  0.143194  0.939831    0.200873     0.181191     0.5   \n3     0.353702  0.353740  0.281323  0.973148    0.574253     0.439707     0.0   \n4     0.203541  0.203586  0.088145  0.949776    0.211237     0.195193     0.5   \n5     0.208843  0.208872  0.091271  0.969667    0.177690     0.116196     0.0   \n6     0.228613  0.228659  0.088145  0.971656    0.327151     0.295089     0.5   \n7     0.193566  0.193585  0.198243  0.969667    0.189145     0.145455     0.0   \n8     0.205338  0.205372  0.128551  0.973645    0.240147     0.122884     0.0   \n9     0.273544  0.273591  0.090192  0.944804    0.545070     0.519958     0.5   \n\n      ROOMS  BEDROOMS  FULL_BATH  HALF_BATH  KITCHEN  FIREPLACE  \n0  0.272727     0.250       0.00   0.333333      0.0       0.00  \n1  0.636364     0.375       0.25   0.333333      0.0       0.00  \n2  0.454545     0.375       0.00   0.333333      0.0       0.00  \n3  0.545455     0.500       0.00   0.333333      0.0       0.25  \n4  0.363636     0.250       0.25   0.000000      0.0       0.00  \n5  0.272727     0.250       0.00   0.000000      0.0       0.25  \n6  0.363636     0.250       0.00   0.333333      0.0       0.00  \n7  0.272727     0.250       0.00   0.000000      0.0       0.00  \n8  0.181818     0.250       0.00   0.000000      0.0       0.25  \n9  0.454545     0.375       0.25   0.000000      0.0       0.00  \n",
          "output_type": "stream"
        }
      ]
    },
    {
      "cell_type": "code",
      "source": "from sklearn.model_selection import train_test_split\n\ntrainData, validData = train_test_split(housing_df, test_size=0.40)\nprint('Training: ', trainData.shape)\nprint('Validation: ', validData.shape)\nprint()\n",
      "metadata": {
        "trusted": true
      },
      "execution_count": 16,
      "outputs": [
        {
          "name": "stdout",
          "text": "Training:  (3481, 14)\nValidation:  (2321, 14)\n\n",
          "output_type": "stream"
        }
      ]
    },
    {
      "cell_type": "code",
      "source": "#Fitting the regression model in traning data\nfrom sklearn.linear_model import LinearRegression\n\nhousing_df= pd.read_csv('WestRoxbury.csv')\nhousing_df.columns = [s.strip().replace(' ','_') for s in housing_df.columns]\nhousing_df = pd.get_dummies(housing_df, prefix_sep ='_', drop_first=True)\n\n#List of predictor and outcome\nexcludeColumns = ('TOTAL_VALUE','TAX')\npredictors = [s for s in housing_df.columns if s not in excludeColumns]\noutcome = 'TOTAL_VALUE'\n\nX= housing_df[predictors]\ny= housing_df[outcome]\ntrain_X,valid_X,train_y,valid_y = train_test_split(X,y,test_size=0.4,random_state=1)",
      "metadata": {
        "trusted": true
      },
      "execution_count": 20,
      "outputs": []
    },
    {
      "cell_type": "code",
      "source": "model=LinearRegression()\nmodel.fit(train_X,train_y)\n\n\ntrain_pred = model.predict(train_X)\ntrain_results = pd.DataFrame({\n    'TOTAL_VALUE':train_y,\n    'PREDICTED': train_pred,\n    'RESIDUAL': train_y-train_pred })\n\ntrain_results.head()",
      "metadata": {
        "trusted": true
      },
      "execution_count": 21,
      "outputs": [
        {
          "execution_count": 21,
          "output_type": "execute_result",
          "data": {
            "text/plain": "      TOTAL_VALUE   PREDICTED   RESIDUAL\n2024        392.0  387.726258   4.273742\n5140        476.3  430.785540  45.514460\n5259        367.4  384.042952 -16.642952\n421         350.3  369.005551 -18.705551\n1401        348.1  314.725722  33.374278",
            "text/html": "<div>\n<style scoped>\n    .dataframe tbody tr th:only-of-type {\n        vertical-align: middle;\n    }\n\n    .dataframe tbody tr th {\n        vertical-align: top;\n    }\n\n    .dataframe thead th {\n        text-align: right;\n    }\n</style>\n<table border=\"1\" class=\"dataframe\">\n  <thead>\n    <tr style=\"text-align: right;\">\n      <th></th>\n      <th>TOTAL_VALUE</th>\n      <th>PREDICTED</th>\n      <th>RESIDUAL</th>\n    </tr>\n  </thead>\n  <tbody>\n    <tr>\n      <th>2024</th>\n      <td>392.0</td>\n      <td>387.726258</td>\n      <td>4.273742</td>\n    </tr>\n    <tr>\n      <th>5140</th>\n      <td>476.3</td>\n      <td>430.785540</td>\n      <td>45.514460</td>\n    </tr>\n    <tr>\n      <th>5259</th>\n      <td>367.4</td>\n      <td>384.042952</td>\n      <td>-16.642952</td>\n    </tr>\n    <tr>\n      <th>421</th>\n      <td>350.3</td>\n      <td>369.005551</td>\n      <td>-18.705551</td>\n    </tr>\n    <tr>\n      <th>1401</th>\n      <td>348.1</td>\n      <td>314.725722</td>\n      <td>33.374278</td>\n    </tr>\n  </tbody>\n</table>\n</div>"
          },
          "metadata": {}
        }
      ]
    },
    {
      "cell_type": "code",
      "source": "valid_pred = model.predict(valid_X)\nvalid_results = pd.DataFrame({\n    'TOTAL_VALUE':valid_y,\n    'PREDICTED': valid_pred,\n    'RESIDUAL': valid_y-valid_pred })\n\nvalid_results.head()",
      "metadata": {
        "trusted": true
      },
      "execution_count": 22,
      "outputs": [
        {
          "execution_count": 22,
          "output_type": "execute_result",
          "data": {
            "text/plain": "      TOTAL_VALUE   PREDICTED   RESIDUAL\n1822        462.0  406.946377  55.053623\n1998        370.4  362.888928   7.511072\n5126        407.4  390.287208  17.112792\n808         316.1  382.470203 -66.370203\n4034        393.2  434.334998 -41.134998",
            "text/html": "<div>\n<style scoped>\n    .dataframe tbody tr th:only-of-type {\n        vertical-align: middle;\n    }\n\n    .dataframe tbody tr th {\n        vertical-align: top;\n    }\n\n    .dataframe thead th {\n        text-align: right;\n    }\n</style>\n<table border=\"1\" class=\"dataframe\">\n  <thead>\n    <tr style=\"text-align: right;\">\n      <th></th>\n      <th>TOTAL_VALUE</th>\n      <th>PREDICTED</th>\n      <th>RESIDUAL</th>\n    </tr>\n  </thead>\n  <tbody>\n    <tr>\n      <th>1822</th>\n      <td>462.0</td>\n      <td>406.946377</td>\n      <td>55.053623</td>\n    </tr>\n    <tr>\n      <th>1998</th>\n      <td>370.4</td>\n      <td>362.888928</td>\n      <td>7.511072</td>\n    </tr>\n    <tr>\n      <th>5126</th>\n      <td>407.4</td>\n      <td>390.287208</td>\n      <td>17.112792</td>\n    </tr>\n    <tr>\n      <th>808</th>\n      <td>316.1</td>\n      <td>382.470203</td>\n      <td>-66.370203</td>\n    </tr>\n    <tr>\n      <th>4034</th>\n      <td>393.2</td>\n      <td>434.334998</td>\n      <td>-41.134998</td>\n    </tr>\n  </tbody>\n</table>\n</div>"
          },
          "metadata": {}
        }
      ]
    },
    {
      "cell_type": "code",
      "source": "import piplite\nawait piplite.install('dmba')\n\nfrom dmba import regressionSummary\n#training\nregressionSummary(train_results.TOTAL_VALUE, train_results.PREDICTED)\n\n#Validation\nregressionSummary(valid_results.TOTAL_VALUE, valid_results.PREDICTED)",
      "metadata": {
        "trusted": true
      },
      "execution_count": 31,
      "outputs": [
        {
          "name": "stdout",
          "text": "\nRegression statistics\n\n                      Mean Error (ME) : 0.0000\n       Root Mean Squared Error (RMSE) : 43.0306\n            Mean Absolute Error (MAE) : 32.6042\n          Mean Percentage Error (MPE) : -1.1116\nMean Absolute Percentage Error (MAPE) : 8.4886\n\nRegression statistics\n\n                      Mean Error (ME) : -0.1463\n       Root Mean Squared Error (RMSE) : 42.7292\n            Mean Absolute Error (MAE) : 31.9663\n          Mean Percentage Error (MPE) : -1.0884\nMean Absolute Percentage Error (MAPE) : 8.3283\n",
          "output_type": "stream"
        }
      ]
    },
    {
      "cell_type": "code",
      "source": "",
      "metadata": {},
      "execution_count": null,
      "outputs": []
    }
  ]
}